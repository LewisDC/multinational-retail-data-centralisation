{
 "cells": [
  {
   "cell_type": "markdown",
   "metadata": {},
   "source": [
    "My Data Cleaning experience:"
   ]
  },
  {
   "cell_type": "code",
   "execution_count": 18,
   "metadata": {},
   "outputs": [
    {
     "name": "stdout",
     "output_type": "stream",
     "text": [
      "Tables in the Database:\n",
      "legacy_store_details\n",
      "legacy_users\n",
      "orders_table\n"
     ]
    }
   ],
   "source": [
    "import yaml\n",
    "import pandas as pd\n",
    "from datetime import datetime\n",
    "from sqlalchemy import create_engine, inspect\n",
    "from database_utils import DatabaseConnector\n",
    "from data_extraction import DataExtractor\n",
    "\n",
    "yaml_file_path = 'db_creds.yaml'\n",
    "db_connector = DatabaseConnector(yaml_file_path)\n",
    "\n",
    "if db_connector.engine:\n",
    "    tables = db_connector.list_db_tables(db_connector.engine)\n",
    "    if tables:\n",
    "        print(\"Tables in the Database:\")\n",
    "        for table in tables:\n",
    "            print(table)\n",
    "    else:\n",
    "        print(\"Failed to list database tables.\")\n",
    "else:\n",
    "    print(\"Failed to initialize the database engine.\")"
   ]
  },
  {
   "cell_type": "markdown",
   "metadata": {},
   "source": [
    "Extract the user table"
   ]
  },
  {
   "cell_type": "code",
   "execution_count": 19,
   "metadata": {},
   "outputs": [
    {
     "name": "stdout",
     "output_type": "stream",
     "text": [
      "<class 'pandas.core.frame.DataFrame'>\n",
      "Index: 15320 entries, 0 to 1249\n",
      "Data columns (total 11 columns):\n",
      " #   Column         Non-Null Count  Dtype \n",
      "---  ------         --------------  ----- \n",
      " 0   first_name     15320 non-null  object\n",
      " 1   last_name      15320 non-null  object\n",
      " 2   date_of_birth  15320 non-null  object\n",
      " 3   company        15320 non-null  object\n",
      " 4   email_address  15320 non-null  object\n",
      " 5   address        15320 non-null  object\n",
      " 6   country        15320 non-null  object\n",
      " 7   country_code   15320 non-null  object\n",
      " 8   phone_number   15320 non-null  object\n",
      " 9   join_date      15320 non-null  object\n",
      " 10  user_uuid      15320 non-null  object\n",
      "dtypes: object(11)\n",
      "memory usage: 1.4+ MB\n"
     ]
    }
   ],
   "source": [
    "table_name = 'legacy_users'\n",
    "df = DataExtractor(db_connector).read_rds_table(table_name)\n",
    "df.info()"
   ]
  },
  {
   "cell_type": "markdown",
   "metadata": {},
   "source": [
    "Remove duplicates"
   ]
  },
  {
   "cell_type": "code",
   "execution_count": 20,
   "metadata": {},
   "outputs": [],
   "source": [
    "df = df[~df.isin(['NULL']).any(axis=1)]"
   ]
  },
  {
   "cell_type": "code",
   "execution_count": 21,
   "metadata": {},
   "outputs": [
    {
     "name": "stdout",
     "output_type": "stream",
     "text": [
      "<class 'pandas.core.frame.DataFrame'>\n",
      "Index: 14889 entries, 0 to 1249\n",
      "Data columns (total 11 columns):\n",
      " #   Column         Non-Null Count  Dtype \n",
      "---  ------         --------------  ----- \n",
      " 0   first_name     14889 non-null  object\n",
      " 1   last_name      14889 non-null  object\n",
      " 2   date_of_birth  14889 non-null  object\n",
      " 3   company        14889 non-null  object\n",
      " 4   email_address  14889 non-null  object\n",
      " 5   address        14889 non-null  object\n",
      " 6   country        14889 non-null  object\n",
      " 7   country_code   14889 non-null  object\n",
      " 8   phone_number   14889 non-null  object\n",
      " 9   join_date      14889 non-null  object\n",
      " 10  user_uuid      14889 non-null  object\n",
      "dtypes: object(11)\n",
      "memory usage: 1.4+ MB\n"
     ]
    }
   ],
   "source": [
    "df.drop_duplicates(inplace=True)\n",
    "df.drop_duplicates(subset=['phone_number'], keep=False, inplace=True)\n",
    "df.drop_duplicates(subset=['email_address'], keep=False, inplace=True)\n",
    "df.drop_duplicates(subset=['user_uuid'], keep=False, inplace=True)\n",
    "df.info()"
   ]
  },
  {
   "cell_type": "markdown",
   "metadata": {},
   "source": [
    "Identify potential category columns"
   ]
  },
  {
   "cell_type": "code",
   "execution_count": 25,
   "metadata": {},
   "outputs": [
    {
     "data": {
      "text/plain": [
       "country_code\n",
       "GB            8961\n",
       "DE            4708\n",
       "US            1205\n",
       "0CU6LW3NKB       0\n",
       "PG8MOC0UZI       0\n",
       "XKI9UXSCZ1       0\n",
       "VSM4IZ4EL3       0\n",
       "RVRFD92E48       0\n",
       "QVUW9JSKY3       0\n",
       "QREF9WLI2A       0\n",
       "OS2P9CMHR6       0\n",
       "44YAIDY048       0\n",
       "NTCGYW8LVC       0\n",
       "LZGTB0T5Z7       0\n",
       "IM8MN1L9MJ       0\n",
       "FB13AKRI21       0\n",
       "5D74J6FPFJ       0\n",
       "XPVCZE2L8B       0\n",
       "Name: count, dtype: int64"
      ]
     },
     "execution_count": 25,
     "metadata": {},
     "output_type": "execute_result"
    }
   ],
   "source": [
    "df['country_code'].value_counts()"
   ]
  },
  {
   "cell_type": "markdown",
   "metadata": {},
   "source": [
    "It is clear there are only 3 valid country codes: GB, DE, US. GGB an easily corrected typo.\n",
    "Viewing the remaining invalid rows shows they can all be removed, also eliminating all 'NULL' values"
   ]
  },
  {
   "cell_type": "code",
   "execution_count": 23,
   "metadata": {},
   "outputs": [],
   "source": [
    "valid_country_code = ('GB', 'DE', 'US')\n",
    "df['country'] = df['country'].astype('category')\n",
    "df['country_code'] = df['country_code'].astype('category')\n",
    "df['country_code'] = df['country_code'].replace('GGB', 'GB')\n",
    "incorrect_codes = df[~df['country_code'].isin(valid_country_code)]\n"
   ]
  },
  {
   "cell_type": "code",
   "execution_count": 24,
   "metadata": {},
   "outputs": [
    {
     "name": "stdout",
     "output_type": "stream",
     "text": [
      "<class 'pandas.core.frame.DataFrame'>\n",
      "Index: 14874 entries, 0 to 1249\n",
      "Data columns (total 11 columns):\n",
      " #   Column         Non-Null Count  Dtype   \n",
      "---  ------         --------------  -----   \n",
      " 0   first_name     14874 non-null  object  \n",
      " 1   last_name      14874 non-null  object  \n",
      " 2   date_of_birth  14874 non-null  object  \n",
      " 3   company        14874 non-null  object  \n",
      " 4   email_address  14874 non-null  object  \n",
      " 5   address        14874 non-null  object  \n",
      " 6   country        14874 non-null  category\n",
      " 7   country_code   14874 non-null  category\n",
      " 8   phone_number   14874 non-null  object  \n",
      " 9   join_date      14874 non-null  object  \n",
      " 10  user_uuid      14874 non-null  object  \n",
      "dtypes: category(2), object(9)\n",
      "memory usage: 1.2+ MB\n"
     ]
    }
   ],
   "source": [
    "df = df.drop(incorrect_codes.index)\n",
    "df.info()"
   ]
  },
  {
   "cell_type": "markdown",
   "metadata": {},
   "source": [
    "Locate the incorrect date formats that would not be converted with pd.to_datetime"
   ]
  },
  {
   "cell_type": "code",
   "execution_count": 26,
   "metadata": {},
   "outputs": [],
   "source": [
    "def convert_incorrect_date_formats(column_name):\n",
    "    condition = ~df[column_name].str.match(r'\\d{4}-\\d{2}-\\d{2}')\n",
    "    df.loc[condition, column_name] = df.loc[condition, column_name].apply(convert_to_yyyymmdd)\n",
    "    return df"
   ]
  },
  {
   "cell_type": "code",
   "execution_count": 27,
   "metadata": {},
   "outputs": [],
   "source": [
    "from datetime import datetime\n",
    "\n",
    "def convert_to_yyyymmdd(date_str):\n",
    "    try:\n",
    "        # Attempt to parse the date using different date formats\n",
    "        date = datetime.strptime(date_str, '%Y %B %d')\n",
    "    except ValueError:\n",
    "        try:\n",
    "            date = datetime.strptime(date_str, '%B %Y %d')\n",
    "        except ValueError:\n",
    "            try:\n",
    "                date = datetime.strptime(date_str, '%Y/%m/%d')\n",
    "            except ValueError:\n",
    "                # If none of the formats match, return None or raise an exception\n",
    "                return None\n",
    "\n",
    "    # Convert the date to 'YYYY-MM-DD' format\n",
    "    yyyymmdd = date.strftime('%Y-%m-%d')\n",
    "    return yyyymmdd"
   ]
  },
  {
   "cell_type": "markdown",
   "metadata": {},
   "source": [
    "Convert the incorrect date formats to 'YYYY-MM-DD' format"
   ]
  },
  {
   "cell_type": "code",
   "execution_count": 28,
   "metadata": {},
   "outputs": [
    {
     "name": "stdout",
     "output_type": "stream",
     "text": [
      "index\n",
      "360       1968 October 16\n",
      "697            1971/10/23\n",
      "1631      January 1951 27\n",
      "1997     November 1958 11\n",
      "3069      1946 October 18\n",
      "3616           1974/06/06\n",
      "3800           2000/01/06\n",
      "4207     1979 February 01\n",
      "4594           2003/09/21\n",
      "5353         June 1943 28\n",
      "5426     November 1963 06\n",
      "5535           1998/08/14\n",
      "6226         July 1966 08\n",
      "7176           2001/07/28\n",
      "7267      1948 October 24\n",
      "8129     December 1946 09\n",
      "8285           1942/05/29\n",
      "8536           2001/10/23\n",
      "9946      2005 January 27\n",
      "10258        July 1961 14\n",
      "11218        July 1939 16\n",
      "13068     1951 January 14\n",
      "13184          1944/10/15\n",
      "14128          1981/01/09\n",
      "14570         May 1996 25\n",
      "9315           1944/11/30\n",
      "Name: date_of_birth, dtype: object\n"
     ]
    }
   ],
   "source": [
    "condition = ~df['date_of_birth'].str.match(r'\\d{4}-\\d{2}-\\d{2}')\n",
    "print(df.loc[condition, 'date_of_birth'])"
   ]
  },
  {
   "cell_type": "code",
   "execution_count": 29,
   "metadata": {},
   "outputs": [
    {
     "name": "stdout",
     "output_type": "stream",
     "text": [
      "index\n",
      "360      1968-10-16\n",
      "697      1971-10-23\n",
      "1631     1951-01-27\n",
      "1997     1958-11-11\n",
      "3069     1946-10-18\n",
      "3616     1974-06-06\n",
      "3800     2000-01-06\n",
      "4207     1979-02-01\n",
      "4594     2003-09-21\n",
      "5353     1943-06-28\n",
      "5426     1963-11-06\n",
      "5535     1998-08-14\n",
      "6226     1966-07-08\n",
      "7176     2001-07-28\n",
      "7267     1948-10-24\n",
      "8129     1946-12-09\n",
      "8285     1942-05-29\n",
      "8536     2001-10-23\n",
      "9946     2005-01-27\n",
      "10258    1961-07-14\n",
      "11218    1939-07-16\n",
      "13068    1951-01-14\n",
      "13184    1944-10-15\n",
      "14128    1981-01-09\n",
      "14570    1996-05-25\n",
      "9315     1944-11-30\n",
      "Name: date_of_birth, dtype: object\n"
     ]
    }
   ],
   "source": [
    "# Apply the conversion function to specific rows\n",
    "df.loc[condition, 'date_of_birth'] = df.loc[condition, 'date_of_birth'].apply(convert_to_yyyymmdd)\n",
    "print(df.loc[condition, 'date_of_birth'])"
   ]
  },
  {
   "cell_type": "code",
   "execution_count": 30,
   "metadata": {},
   "outputs": [
    {
     "name": "stdout",
     "output_type": "stream",
     "text": [
      "index\n",
      "1074           2006/10/04\n",
      "1349      2001 October 14\n",
      "1571         1998 June 28\n",
      "2441           2017/01/15\n",
      "2482      2022 October 04\n",
      "3167           2008/12/23\n",
      "4165     2008 December 05\n",
      "4360     1994 February 12\n",
      "5557           2008/05/09\n",
      "6138     November 1994 28\n",
      "6305     February 2019 03\n",
      "6494         July 2002 21\n",
      "8955          May 1999 31\n",
      "9035          May 1994 27\n",
      "9368           2019/09/12\n",
      "10682          2009/06/23\n",
      "11376          2021/10/09\n",
      "12163       March 2011 04\n",
      "12711    December 1992 09\n",
      "12759          2009/03/05\n",
      "14335          1997/07/14\n",
      "14514     October 2022 26\n",
      "Name: join_date, dtype: object\n"
     ]
    }
   ],
   "source": [
    "condition = ~df['join_date'].str.match(r'\\d{4}-\\d{2}-\\d{2}')\n",
    "print(df.loc[condition, 'join_date'])\n",
    "# Apply the conversion function to specific rows\n",
    "df.loc[condition, 'join_date'] = df.loc[condition, 'join_date'].apply(convert_to_yyyymmdd)"
   ]
  },
  {
   "cell_type": "markdown",
   "metadata": {},
   "source": [
    "Convert date columns to datetime objects"
   ]
  },
  {
   "cell_type": "code",
   "execution_count": 31,
   "metadata": {},
   "outputs": [],
   "source": [
    "date_columns = ('date_of_birth', 'join_date')\n",
    "for col in date_columns:\n",
    "    df[col] = pd.to_datetime(df[col], errors='coerce')\n",
    "\n"
   ]
  },
  {
   "cell_type": "code",
   "execution_count": 32,
   "metadata": {},
   "outputs": [
    {
     "data": {
      "text/plain": [
       "index\n",
       "0         +49(0) 047905356\n",
       "1          (0161) 496 0674\n",
       "2        +44(0)121 4960340\n",
       "3          (0306) 999 0871\n",
       "5        277-664-6389x8405\n",
       "               ...        \n",
       "14913      +44(0)292018946\n",
       "14994     +44(0)1144960977\n",
       "15012          02984 08192\n",
       "15269         239.711.3836\n",
       "1249      +44(0)1314960870\n",
       "Name: phone_number, Length: 14874, dtype: object"
      ]
     },
     "metadata": {},
     "output_type": "display_data"
    }
   ],
   "source": [
    "display(df['phone_number'])"
   ]
  },
  {
   "cell_type": "markdown",
   "metadata": {},
   "source": [
    "Locate the incorrectly formatted email addresses"
   ]
  },
  {
   "cell_type": "code",
   "execution_count": null,
   "metadata": {},
   "outputs": [],
   "source": [
    "email_pattern = r'^[\\w\\.-]+@[\\w\\.-]+\\.\\w+'\n",
    "invalid_email_df = df[~df['email_address'].str.contains(email_pattern, na=False)]\n",
    "invalid_email_df"
   ]
  },
  {
   "cell_type": "markdown",
   "metadata": {},
   "source": [
    "Correct input errors"
   ]
  },
  {
   "cell_type": "code",
   "execution_count": null,
   "metadata": {},
   "outputs": [],
   "source": [
    "# Replace @@ with @ in the \"email\" column\n",
    "df['email_address'] = df['email_address'].str.replace('@@', '@')"
   ]
  },
  {
   "cell_type": "markdown",
   "metadata": {},
   "source": [
    "Clean phone number data"
   ]
  },
  {
   "cell_type": "code",
   "execution_count": null,
   "metadata": {},
   "outputs": [],
   "source": [
    "def format_gb_to_e164(phone_number):\n",
    "    # Remove non-digit characters\n",
    "    phone_number = ''.join(filter(str.isdigit, phone_number))\n",
    "    \n",
    "    # Check if the first two digits are \"44\"\n",
    "    if phone_number[:3] == \"440\":\n",
    "        # Phone number has an unecessary 0 at index 2\n",
    "        return \"+\" + phone_number[0:2] + phone_number[3:]\n",
    "    elif phone_number[:3] == \"441\":\n",
    "        # Phone number is already in E.164 format\n",
    "        return \"+\" + phone_number\n",
    "    elif phone_number.startswith(\"0\"):\n",
    "        # Remove the leading \"0\" and add \"44\" in front\n",
    "        return \"+44\" + phone_number[1:]\n",
    "    else:\n",
    "        # Phone number does not start with \"44\" or \"0\"\n",
    "        return None  # Invalid format, you can handle it accordingly\n",
    "    \n",
    "def format_de_to_e164(phone_number):\n",
    "    # Remove non-digit characters\n",
    "    phone_number = ''.join(filter(str.isdigit, phone_number))\n",
    "    \n",
    "    # Check if the first two digits are \"49\"\n",
    "    if phone_number[:3] == \"490\":\n",
    "        # Phone number has an unecessary 0 at index 2\n",
    "        return \"+\" + phone_number[0:2] + phone_number[3:]\n",
    "    elif phone_number[:3] == \"491\":\n",
    "        # Phone number is already in E.164 format\n",
    "        return \"+\" + phone_number\n",
    "    elif phone_number.startswith(\"0\"):\n",
    "        # Remove the leading \"0\" and add \"49\" in front\n",
    "        return \"+49\" + phone_number[1:]\n",
    "    else:\n",
    "        # Phone number does not start with \"49\" or \"0\"\n",
    "        return None  # Invalid format, you can handle it accordingly    \n",
    "    \n"
   ]
  },
  {
   "cell_type": "code",
   "execution_count": null,
   "metadata": {},
   "outputs": [],
   "source": [
    "df.loc[df['country_code']=='GB', 'phone_number'] = df.loc[df['country_code']=='GB']['phone_number'].apply(format_gb_to_e164)"
   ]
  },
  {
   "cell_type": "markdown",
   "metadata": {},
   "source": []
  },
  {
   "cell_type": "code",
   "execution_count": null,
   "metadata": {},
   "outputs": [],
   "source": [
    "# Convert to string\n",
    "df['phone_number'] = df['phone_number'].apply(lambda x: str(x))"
   ]
  },
  {
   "cell_type": "code",
   "execution_count": null,
   "metadata": {},
   "outputs": [],
   "source": [
    "df.loc[df['country_code'] == 'GB', 'phone_number'] = df.loc[df['country_code']=='GB']['phone_number'].apply(lambda x: x[0:3] + ' ' + x[3:])\n",
    "df.loc[df['country_code'] == 'GB', 'phone_number'] = df.loc[df['country_code']=='GB']['phone_number'].apply(lambda x: x[:-6] + ' ' + x[-6:])"
   ]
  },
  {
   "cell_type": "code",
   "execution_count": null,
   "metadata": {},
   "outputs": [],
   "source": [
    "df.loc[df['country_code'] == 'GB', 'phone_number'] = df.loc[df['country_code']=='GB']['phone_number'].apply(lambda x: x[:-4] + ' ' + x[-4:])\n",
    "df.loc[df['country_code'] == 'GB', 'phone_number'] = df.loc[df['country_code']=='GB']['phone_number'].apply(lambda x: x[:-8] + ' ' + x[-8:])"
   ]
  },
  {
   "cell_type": "code",
   "execution_count": null,
   "metadata": {},
   "outputs": [],
   "source": [
    "df.loc[df['country_code'] == 'GB', 'phone_number']"
   ]
  },
  {
   "cell_type": "code",
   "execution_count": null,
   "metadata": {},
   "outputs": [],
   "source": [
    "df.loc[df['country_code'] == 'DE', 'phone_number'] = df.loc[df['country_code'] == 'DE']['phone_number'].apply(format_de_to_e164) "
   ]
  },
  {
   "cell_type": "code",
   "execution_count": null,
   "metadata": {},
   "outputs": [],
   "source": [
    "df.loc[df['country_code'] == 'DE', 'phone_number']"
   ]
  },
  {
   "cell_type": "code",
   "execution_count": null,
   "metadata": {},
   "outputs": [],
   "source": [
    "df.loc[df['country_code'] == 'US', 'phone_number'].tail(20)"
   ]
  },
  {
   "cell_type": "code",
   "execution_count": null,
   "metadata": {},
   "outputs": [],
   "source": []
  },
  {
   "cell_type": "code",
   "execution_count": null,
   "metadata": {},
   "outputs": [],
   "source": [
    "df['address'] = df['address'].str.replace(\"\\n\", ' ')\n",
    "df['address'] = df['address'].str.title()\n",
    "df['address'] = df['address'].str.split().apply(lambda x: ' '.join(x[:-2] + [word.upper() for word in x[-2:]]))\n"
   ]
  },
  {
   "cell_type": "code",
   "execution_count": null,
   "metadata": {},
   "outputs": [],
   "source": [
    "# Define a custom function to uppercase the last two words\n",
    "def uppercase_last_two_words(text):\n",
    "    words = text.split()\n",
    "    return ' '.join(words[:-2] + [word.upper() for word in words[-2:]])\n",
    "\n",
    "# Apply the custom function to the 'address' column based on the 'country_code' condition\n",
    "df.loc[df['country_code'] == 'GB', 'address'] = df.loc[df['country_code'] == 'GB']['address'].apply(uppercase_last_two_words)\n",
    "\n"
   ]
  },
  {
   "cell_type": "code",
   "execution_count": null,
   "metadata": {},
   "outputs": [],
   "source": [
    "df.loc[df['country_code'] == 'DE', 'address']"
   ]
  },
  {
   "cell_type": "code",
   "execution_count": null,
   "metadata": {},
   "outputs": [],
   "source": [
    "df.head(20)"
   ]
  }
 ],
 "metadata": {
  "kernelspec": {
   "display_name": "Python 3",
   "language": "python",
   "name": "python3"
  },
  "language_info": {
   "codemirror_mode": {
    "name": "ipython",
    "version": 3
   },
   "file_extension": ".py",
   "mimetype": "text/x-python",
   "name": "python",
   "nbconvert_exporter": "python",
   "pygments_lexer": "ipython3",
   "version": "3.10.12"
  },
  "orig_nbformat": 4
 },
 "nbformat": 4,
 "nbformat_minor": 2
}
