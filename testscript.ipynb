{
 "cells": [
  {
   "cell_type": "code",
   "execution_count": 16,
   "metadata": {},
   "outputs": [
    {
     "name": "stdout",
     "output_type": "stream",
     "text": [
      "Tables in the Database:\n",
      "legacy_store_details\n",
      "legacy_users\n",
      "orders_table\n"
     ]
    }
   ],
   "source": [
    "import yaml\n",
    "from sqlalchemy import create_engine, inspect\n",
    "\n",
    "class DatabaseConnector:\n",
    "    def __init__(self, yaml_file_path):\n",
    "        self.yaml_file_path = yaml_file_path\n",
    "        # Initialize the database engine\n",
    "        self.engine = self.init_db_engine(yaml_file_path)\n",
    "\n",
    "    def read_db_creds(self, yaml_file_path):\n",
    "        try:\n",
    "            with open(yaml_file_path, 'r') as yaml_file:\n",
    "                creds = yaml.safe_load(yaml_file)  \n",
    "            return creds\n",
    "        except Exception as e:\n",
    "            print(f\"Error reading YAML file: {e}\")\n",
    "            return None\n",
    "\n",
    "    def init_db_engine(self, yaml_file_path):\n",
    "        creds = self.read_db_creds(self.yaml_file_path)\n",
    "\n",
    "        if creds:\n",
    "                # Database connection details\n",
    "            DATABASE_TYPE = 'postgresql'\n",
    "            DBAPI = 'psycopg2'\n",
    "            ENDPOINT = creds['RDS_HOST']\n",
    "            USER = creds['RDS_USER']\n",
    "            PASSWORD = creds['RDS_PASSWORD']\n",
    "            PORT = creds['RDS_PORT']\n",
    "            DATABASE = creds['RDS_DATABASE']\n",
    "\n",
    "            try:\n",
    "                # Initialize and return the SQLAlchemy engine\n",
    "                engine = create_engine(f\"{DATABASE_TYPE}+{DBAPI}://{USER}:{PASSWORD}@{ENDPOINT}:{PORT}/{DATABASE}\")\n",
    "                return engine\n",
    "            except Exception as e:\n",
    "                print(\"Failed to initialise the database engine: {e}\")\n",
    "                return None\n",
    "        else:\n",
    "            print(\"Failed to initialize the database engine.\")\n",
    "            return None\n",
    "\n",
    "    def list_db_tables(self):\n",
    "        try:\n",
    "            # Create a SQLAlchemy inspector object\n",
    "            inspector = inspect(self.engine)\n",
    "\n",
    "            # Get a list of all table names in the database\n",
    "            table_names = inspector.get_table_names()\n",
    "            \n",
    "            return table_names\n",
    "        except Exception as e:\n",
    "            print(f\"Error listing database tables: {e}\")\n",
    "            return None\n",
    "\n",
    "# Example usage:\n",
    "yaml_file_path = 'db_creds.yaml'\n",
    "db_connector = DatabaseConnector(yaml_file_path)\n",
    "\n",
    "if db_connector.engine:\n",
    "    tables = db_connector.list_db_tables()\n",
    "    if tables:\n",
    "        print(\"Tables in the Database:\")\n",
    "        for table in tables:\n",
    "            print(table)\n",
    "    else:\n",
    "        print(\"Failed to list database tables.\")\n",
    "else:\n",
    "    print(\"Failed to initialize the database engine.\")\n"
   ]
  },
  {
   "cell_type": "code",
   "execution_count": 17,
   "metadata": {},
   "outputs": [],
   "source": [
    "import pandas as pd\n",
    "from database_utils import DatabaseConnector\n",
    "\n",
    "class DataExtractor:\n",
    "    def __init__(self, db_connector):\n",
    "        self.db_connector = db_connector\n",
    "        \n",
    "    def read_rds_table(self, table_name):\n",
    "        try:\n",
    "            engine = self.db_connector.engine\n",
    "            with engine.execution_options(isolation_level='AUTOCOMMIT').connect() as conn:    \n",
    "                df = pd.read_sql(f\"SELECT * FROM {table_name}\", engine).set_index('index')\n",
    "                return df\n",
    "        \n",
    "        except Exception as e:\n",
    "            print(f\"Error reading table {table_name}: {e}\")\n",
    "            return None\n",
    "\n",
    "table_name = \"legacy_users\"\n",
    "user_df = DataExtractor(db_connector).read_rds_table(table_name)            "
   ]
  },
  {
   "cell_type": "code",
   "execution_count": 19,
   "metadata": {},
   "outputs": [
    {
     "name": "stdout",
     "output_type": "stream",
     "text": [
      "<class 'pandas.core.frame.DataFrame'>\n",
      "Index: 15320 entries, 0 to 1249\n",
      "Data columns (total 11 columns):\n",
      " #   Column         Non-Null Count  Dtype \n",
      "---  ------         --------------  ----- \n",
      " 0   first_name     15320 non-null  object\n",
      " 1   last_name      15320 non-null  object\n",
      " 2   date_of_birth  15320 non-null  object\n",
      " 3   company        15320 non-null  object\n",
      " 4   email_address  15320 non-null  object\n",
      " 5   address        15320 non-null  object\n",
      " 6   country        15320 non-null  object\n",
      " 7   country_code   15320 non-null  object\n",
      " 8   phone_number   15320 non-null  object\n",
      " 9   join_date      15320 non-null  object\n",
      " 10  user_uuid      15320 non-null  object\n",
      "dtypes: object(11)\n",
      "memory usage: 1.4+ MB\n"
     ]
    }
   ],
   "source": [
    "user_df\n",
    "user_df.info()"
   ]
  },
  {
   "cell_type": "code",
   "execution_count": 23,
   "metadata": {},
   "outputs": [
    {
     "data": {
      "text/plain": [
       "country\n",
       "United Kingdom    9371\n",
       "Germany           4708\n",
       "United States     1205\n",
       "NULL                21\n",
       "PNRMPSYR1J           1\n",
       "XN9NGL5C0B           1\n",
       "XGI7FM0VBJ           1\n",
       "T4WBZSW0XI           1\n",
       "S0E37H52ON           1\n",
       "RQRB7RMTAD           1\n",
       "3518UD5CE8           1\n",
       "50KUU3PQUF           1\n",
       "I7G4DMDZOZ           1\n",
       "GMRBOMI0O1           1\n",
       "EWE3U0DZIV           1\n",
       "AJ1ENKS3QL           1\n",
       "7ZNO5EBALT           1\n",
       "5EFAFD0JLI           1\n",
       "YOTSVPRBQ7           1\n",
       "Name: count, dtype: int64"
      ]
     },
     "execution_count": 23,
     "metadata": {},
     "output_type": "execute_result"
    }
   ],
   "source": [
    "user_df['country'] = user_df['country'].astype('category')\n",
    "user_df['country'].value_counts()"
   ]
  },
  {
   "cell_type": "code",
   "execution_count": null,
   "metadata": {},
   "outputs": [],
   "source": []
  }
 ],
 "metadata": {
  "kernelspec": {
   "display_name": "Python 3",
   "language": "python",
   "name": "python3"
  },
  "language_info": {
   "codemirror_mode": {
    "name": "ipython",
    "version": 3
   },
   "file_extension": ".py",
   "mimetype": "text/x-python",
   "name": "python",
   "nbconvert_exporter": "python",
   "pygments_lexer": "ipython3",
   "version": "3.10.12"
  },
  "orig_nbformat": 4
 },
 "nbformat": 4,
 "nbformat_minor": 2
}
