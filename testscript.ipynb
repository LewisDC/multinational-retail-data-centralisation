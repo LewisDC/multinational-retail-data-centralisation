{
 "cells": [
  {
   "cell_type": "code",
   "execution_count": 6,
   "metadata": {},
   "outputs": [
    {
     "ename": "TypeError",
     "evalue": "DatabaseConnector.list_db_tables() missing 1 required positional argument: 'engine'",
     "output_type": "error",
     "traceback": [
      "\u001b[0;31m---------------------------------------------------------------------------\u001b[0m",
      "\u001b[0;31mTypeError\u001b[0m                                 Traceback (most recent call last)",
      "\u001b[1;32m/home/lewis/Documents/Python/Data_Scripts/multinational-retail-data-centralisation/testscript.ipynb Cell 1\u001b[0m line \u001b[0;36m1\n\u001b[1;32m      <a href='vscode-notebook-cell:/home/lewis/Documents/Python/Data_Scripts/multinational-retail-data-centralisation/testscript.ipynb#W0sZmlsZQ%3D%3D?line=6'>7</a>\u001b[0m db_connector \u001b[39m=\u001b[39m DatabaseConnector(yaml_file_path)\n\u001b[1;32m      <a href='vscode-notebook-cell:/home/lewis/Documents/Python/Data_Scripts/multinational-retail-data-centralisation/testscript.ipynb#W0sZmlsZQ%3D%3D?line=8'>9</a>\u001b[0m \u001b[39mif\u001b[39;00m db_connector\u001b[39m.\u001b[39mengine:\n\u001b[0;32m---> <a href='vscode-notebook-cell:/home/lewis/Documents/Python/Data_Scripts/multinational-retail-data-centralisation/testscript.ipynb#W0sZmlsZQ%3D%3D?line=9'>10</a>\u001b[0m     tables \u001b[39m=\u001b[39m db_connector\u001b[39m.\u001b[39;49mlist_db_tables()\n\u001b[1;32m     <a href='vscode-notebook-cell:/home/lewis/Documents/Python/Data_Scripts/multinational-retail-data-centralisation/testscript.ipynb#W0sZmlsZQ%3D%3D?line=10'>11</a>\u001b[0m     \u001b[39mif\u001b[39;00m tables:\n\u001b[1;32m     <a href='vscode-notebook-cell:/home/lewis/Documents/Python/Data_Scripts/multinational-retail-data-centralisation/testscript.ipynb#W0sZmlsZQ%3D%3D?line=11'>12</a>\u001b[0m         \u001b[39mprint\u001b[39m(\u001b[39m\"\u001b[39m\u001b[39mTables in the Database:\u001b[39m\u001b[39m\"\u001b[39m)\n",
      "\u001b[0;31mTypeError\u001b[0m: DatabaseConnector.list_db_tables() missing 1 required positional argument: 'engine'"
     ]
    }
   ],
   "source": [
    "import yaml\n",
    "from sqlalchemy import create_engine, inspect\n",
    "from database_utils import DatabaseConnector\n",
    "from data_extraction import DataExtractor\n",
    "\n",
    "yaml_file_path = 'db_creds.yaml'\n",
    "db_connector = DatabaseConnector(yaml_file_path)\n",
    "\n",
    "if db_connector.engine:\n",
    "    tables = db_connector.list_db_tables()\n",
    "    if tables:\n",
    "        print(\"Tables in the Database:\")\n",
    "        for table in tables:\n",
    "            print(table)\n",
    "    else:\n",
    "        print(\"Failed to list database tables.\")\n",
    "else:\n",
    "    print(\"Failed to initialize the database engine.\")\n"
   ]
  },
  {
   "cell_type": "code",
   "execution_count": 5,
   "metadata": {},
   "outputs": [],
   "source": [
    "import pandas as pd\n",
    "from database_utils import DatabaseConnector\n",
    "\n",
    "class DataExtractor:\n",
    "    def __init__(self, db_connector):\n",
    "        self.db_connector = db_connector\n",
    "        \n",
    "    def read_rds_table(self, table_name):\n",
    "        try:\n",
    "            engine = self.db_connector.engine\n",
    "            with engine.execution_options(isolation_level='AUTOCOMMIT').connect() as conn:    \n",
    "                df = pd.read_sql(f\"SELECT * FROM {table_name}\", engine).set_index('index')\n",
    "                return df\n",
    "        \n",
    "        except Exception as e:\n",
    "            print(f\"Error reading table {table_name}: {e}\")\n",
    "            return None\n",
    "\n",
    "#table_name = \"legacy_users\"\n",
    "#user_df = DataExtractor(db_connector).read_rds_table(table_name) "
   ]
  },
  {
   "cell_type": "code",
   "execution_count": 3,
   "metadata": {},
   "outputs": [
    {
     "name": "stdout",
     "output_type": "stream",
     "text": [
      "<class 'pandas.core.frame.DataFrame'>\n",
      "Index: 15320 entries, 0 to 1249\n",
      "Data columns (total 11 columns):\n",
      " #   Column         Non-Null Count  Dtype \n",
      "---  ------         --------------  ----- \n",
      " 0   first_name     15320 non-null  object\n",
      " 1   last_name      15320 non-null  object\n",
      " 2   date_of_birth  15320 non-null  object\n",
      " 3   company        15320 non-null  object\n",
      " 4   email_address  15320 non-null  object\n",
      " 5   address        15320 non-null  object\n",
      " 6   country        15320 non-null  object\n",
      " 7   country_code   15320 non-null  object\n",
      " 8   phone_number   15320 non-null  object\n",
      " 9   join_date      15320 non-null  object\n",
      " 10  user_uuid      15320 non-null  object\n",
      "dtypes: object(11)\n",
      "memory usage: 1.4+ MB\n"
     ]
    }
   ],
   "source": [
    "legacy_user_df = user_df\n",
    "legacy_user_df.info()"
   ]
  },
  {
   "cell_type": "code",
   "execution_count": 16,
   "metadata": {},
   "outputs": [
    {
     "name": "stdout",
     "output_type": "stream",
     "text": [
      "(15300, 11)\n"
     ]
    }
   ],
   "source": [
    "duplicates = legacy_user_df.drop_duplicates()\n",
    "print(duplicates.shape)"
   ]
  },
  {
   "cell_type": "code",
   "execution_count": 20,
   "metadata": {},
   "outputs": [
    {
     "name": "stdout",
     "output_type": "stream",
     "text": [
      "      first_name last_name date_of_birth company email_address address  \\\n",
      "index                                                                    \n",
      "867         NULL      NULL          NULL    NULL          NULL    NULL   \n",
      "\n",
      "      country country_code phone_number join_date user_uuid  \n",
      "index                                                        \n",
      "867      NULL         NULL         NULL      NULL      NULL  \n"
     ]
    }
   ],
   "source": [
    "print(duplicates[duplicates.isin(['NULL']).any(axis=1)])"
   ]
  },
  {
   "cell_type": "code",
   "execution_count": 17,
   "metadata": {},
   "outputs": [
    {
     "data": {
      "text/plain": [
       "(15299, 11)"
      ]
     },
     "execution_count": 17,
     "metadata": {},
     "output_type": "execute_result"
    }
   ],
   "source": [
    "legacy_user_df = legacy_user_df[~legacy_user_df.isin(['NULL']).any(axis=1)]\n",
    "legacy_user_df.shape"
   ]
  },
  {
   "cell_type": "code",
   "execution_count": 12,
   "metadata": {},
   "outputs": [
    {
     "data": {
      "text/html": [
       "<div>\n",
       "<style scoped>\n",
       "    .dataframe tbody tr th:only-of-type {\n",
       "        vertical-align: middle;\n",
       "    }\n",
       "\n",
       "    .dataframe tbody tr th {\n",
       "        vertical-align: top;\n",
       "    }\n",
       "\n",
       "    .dataframe thead th {\n",
       "        text-align: right;\n",
       "    }\n",
       "</style>\n",
       "<table border=\"1\" class=\"dataframe\">\n",
       "  <thead>\n",
       "    <tr style=\"text-align: right;\">\n",
       "      <th></th>\n",
       "      <th>first_name</th>\n",
       "      <th>last_name</th>\n",
       "      <th>date_of_birth</th>\n",
       "      <th>company</th>\n",
       "      <th>email_address</th>\n",
       "      <th>address</th>\n",
       "      <th>country</th>\n",
       "      <th>country_code</th>\n",
       "      <th>phone_number</th>\n",
       "      <th>join_date</th>\n",
       "      <th>user_uuid</th>\n",
       "    </tr>\n",
       "  </thead>\n",
       "  <tbody>\n",
       "    <tr>\n",
       "      <th>count</th>\n",
       "      <td>15299</td>\n",
       "      <td>15299</td>\n",
       "      <td>15299</td>\n",
       "      <td>15299</td>\n",
       "      <td>15299</td>\n",
       "      <td>15299</td>\n",
       "      <td>15299</td>\n",
       "      <td>15299</td>\n",
       "      <td>15299</td>\n",
       "      <td>15299</td>\n",
       "      <td>15299</td>\n",
       "    </tr>\n",
       "    <tr>\n",
       "      <th>unique</th>\n",
       "      <td>2177</td>\n",
       "      <td>1191</td>\n",
       "      <td>11359</td>\n",
       "      <td>12104</td>\n",
       "      <td>15299</td>\n",
       "      <td>15299</td>\n",
       "      <td>18</td>\n",
       "      <td>19</td>\n",
       "      <td>15091</td>\n",
       "      <td>8267</td>\n",
       "      <td>15299</td>\n",
       "    </tr>\n",
       "    <tr>\n",
       "      <th>top</th>\n",
       "      <td>Michael</td>\n",
       "      <td>Smith</td>\n",
       "      <td>1958-02-02</td>\n",
       "      <td>Smith Inc</td>\n",
       "      <td>rudi79@winkler.de</td>\n",
       "      <td>Zimmerstr. 1/0\\n59015 Gießen</td>\n",
       "      <td>United Kingdom</td>\n",
       "      <td>GB</td>\n",
       "      <td>+44(0)808 1570796</td>\n",
       "      <td>2006-05-30</td>\n",
       "      <td>93caf182-e4e9-4c6e-bebb-60a1a9dcf9b8</td>\n",
       "    </tr>\n",
       "    <tr>\n",
       "      <th>freq</th>\n",
       "      <td>57</td>\n",
       "      <td>340</td>\n",
       "      <td>6</td>\n",
       "      <td>22</td>\n",
       "      <td>1</td>\n",
       "      <td>1</td>\n",
       "      <td>9371</td>\n",
       "      <td>9365</td>\n",
       "      <td>3</td>\n",
       "      <td>8</td>\n",
       "      <td>1</td>\n",
       "    </tr>\n",
       "  </tbody>\n",
       "</table>\n",
       "</div>"
      ],
      "text/plain": [
       "       first_name last_name date_of_birth    company      email_address  \\\n",
       "count       15299     15299         15299      15299              15299   \n",
       "unique       2177      1191         11359      12104              15299   \n",
       "top       Michael     Smith    1958-02-02  Smith Inc  rudi79@winkler.de   \n",
       "freq           57       340             6         22                  1   \n",
       "\n",
       "                             address         country country_code  \\\n",
       "count                          15299           15299        15299   \n",
       "unique                         15299              18           19   \n",
       "top     Zimmerstr. 1/0\\n59015 Gießen  United Kingdom           GB   \n",
       "freq                               1            9371         9365   \n",
       "\n",
       "             phone_number   join_date                             user_uuid  \n",
       "count               15299       15299                                 15299  \n",
       "unique              15091        8267                                 15299  \n",
       "top     +44(0)808 1570796  2006-05-30  93caf182-e4e9-4c6e-bebb-60a1a9dcf9b8  \n",
       "freq                    3           8                                     1  "
      ]
     },
     "execution_count": 12,
     "metadata": {},
     "output_type": "execute_result"
    }
   ],
   "source": [
    "user_df = user_df[~user_df.isin(['NULL']).any(axis=1)]\n",
    "user_df.describe()"
   ]
  },
  {
   "cell_type": "code",
   "execution_count": 1,
   "metadata": {},
   "outputs": [],
   "source": [
    "def upload_to_db(df, table_name):\n",
    "        DATABASE_TYPE = 'postgresql'\n",
    "        DBAPI = 'psycopg2'\n",
    "        HOST = 'localhost'\n",
    "        USER = 'postgres'\n",
    "        PASSWORD = 'JunkDB'\n",
    "        DATABASE = df\n",
    "        PORT = 5432\n",
    "        try:\n",
    "            engine = create_engine(f\"{DATABASE_TYPE}+{DBAPI}://{USER}:{PASSWORD}@{HOST}:{PORT}/{DATABASE}\")# Create a database engine using SQLAlchemy\n",
    "            df.to_sql(table_name, engine, if_exists='replace', index=False)\n",
    "            print(f\"Data has been uploaded to the '{table_name}' table successfully.\")\n",
    "    \n",
    "        except Exception as e:\n",
    "            print(f\"An error occurred: {str(e)}\")"
   ]
  }
 ],
 "metadata": {
  "kernelspec": {
   "display_name": "Python 3",
   "language": "python",
   "name": "python3"
  },
  "language_info": {
   "codemirror_mode": {
    "name": "ipython",
    "version": 3
   },
   "file_extension": ".py",
   "mimetype": "text/x-python",
   "name": "python",
   "nbconvert_exporter": "python",
   "pygments_lexer": "ipython3",
   "version": "3.10.12"
  },
  "orig_nbformat": 4
 },
 "nbformat": 4,
 "nbformat_minor": 2
}
