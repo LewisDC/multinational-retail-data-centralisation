{
 "cells": [
  {
   "cell_type": "markdown",
   "metadata": {},
   "source": [
    "My Data Cleaning experience:"
   ]
  },
  {
   "cell_type": "code",
   "execution_count": 1,
   "metadata": {},
   "outputs": [
    {
     "name": "stdout",
     "output_type": "stream",
     "text": [
      "Tables in the Database:\n",
      "legacy_store_details\n",
      "legacy_users\n",
      "orders_table\n"
     ]
    }
   ],
   "source": [
    "import yaml\n",
    "import pandas as pd\n",
    "from datetime import datetime\n",
    "from sqlalchemy import create_engine, inspect\n",
    "from database_utils import DatabaseConnector\n",
    "from data_extraction import DataExtractor\n",
    "\n",
    "yaml_file_path = 'db_creds.yaml'\n",
    "db_connector = DatabaseConnector(yaml_file_path)\n",
    "\n",
    "if db_connector.engine:\n",
    "    tables = db_connector.list_db_tables(db_connector.engine)\n",
    "    if tables:\n",
    "        print(\"Tables in the Database:\")\n",
    "        for table in tables:\n",
    "            print(table)\n",
    "    else:\n",
    "        print(\"Failed to list database tables.\")\n",
    "else:\n",
    "    print(\"Failed to initialize the database engine.\")"
   ]
  },
  {
   "cell_type": "markdown",
   "metadata": {},
   "source": [
    "Extract the user table"
   ]
  },
  {
   "cell_type": "code",
   "execution_count": 2,
   "metadata": {},
   "outputs": [
    {
     "name": "stdout",
     "output_type": "stream",
     "text": [
      "<class 'pandas.core.frame.DataFrame'>\n",
      "Index: 15320 entries, 0 to 1249\n",
      "Data columns (total 11 columns):\n",
      " #   Column         Non-Null Count  Dtype \n",
      "---  ------         --------------  ----- \n",
      " 0   first_name     15320 non-null  object\n",
      " 1   last_name      15320 non-null  object\n",
      " 2   date_of_birth  15320 non-null  object\n",
      " 3   company        15320 non-null  object\n",
      " 4   email_address  15320 non-null  object\n",
      " 5   address        15320 non-null  object\n",
      " 6   country        15320 non-null  object\n",
      " 7   country_code   15320 non-null  object\n",
      " 8   phone_number   15320 non-null  object\n",
      " 9   join_date      15320 non-null  object\n",
      " 10  user_uuid      15320 non-null  object\n",
      "dtypes: object(11)\n",
      "memory usage: 1.4+ MB\n"
     ]
    }
   ],
   "source": [
    "table_name = 'legacy_users'\n",
    "df = DataExtractor(db_connector).read_rds_table(table_name)\n",
    "df.info()"
   ]
  },
  {
   "cell_type": "markdown",
   "metadata": {},
   "source": [
    "Remove duplicates"
   ]
  },
  {
   "cell_type": "code",
   "execution_count": 3,
   "metadata": {},
   "outputs": [],
   "source": [
    "df = df[~df.isin(['NULL']).any(axis=1)]"
   ]
  },
  {
   "cell_type": "code",
   "execution_count": 4,
   "metadata": {},
   "outputs": [
    {
     "name": "stdout",
     "output_type": "stream",
     "text": [
      "<class 'pandas.core.frame.DataFrame'>\n",
      "Index: 14889 entries, 0 to 1249\n",
      "Data columns (total 11 columns):\n",
      " #   Column         Non-Null Count  Dtype \n",
      "---  ------         --------------  ----- \n",
      " 0   first_name     14889 non-null  object\n",
      " 1   last_name      14889 non-null  object\n",
      " 2   date_of_birth  14889 non-null  object\n",
      " 3   company        14889 non-null  object\n",
      " 4   email_address  14889 non-null  object\n",
      " 5   address        14889 non-null  object\n",
      " 6   country        14889 non-null  object\n",
      " 7   country_code   14889 non-null  object\n",
      " 8   phone_number   14889 non-null  object\n",
      " 9   join_date      14889 non-null  object\n",
      " 10  user_uuid      14889 non-null  object\n",
      "dtypes: object(11)\n",
      "memory usage: 1.4+ MB\n"
     ]
    }
   ],
   "source": [
    "df.drop_duplicates(inplace=True)\n",
    "df.drop_duplicates(subset=['phone_number'], keep=False, inplace=True)\n",
    "df.drop_duplicates(subset=['email_address'], keep=False, inplace=True)\n",
    "df.drop_duplicates(subset=['user_uuid'], keep=False, inplace=True)\n",
    "df.info()"
   ]
  },
  {
   "cell_type": "markdown",
   "metadata": {},
   "source": [
    "Identify potential category columns"
   ]
  },
  {
   "cell_type": "code",
   "execution_count": null,
   "metadata": {},
   "outputs": [],
   "source": [
    "df['country_code'].value_counts()"
   ]
  },
  {
   "cell_type": "markdown",
   "metadata": {},
   "source": [
    "It is clear there are only 3 valid country codes: GB, DE, US. GGB an easily corrected typo.\n",
    "Viewing the remaining invalid rows shows they can all be removed, also eliminating all 'NULL' values"
   ]
  },
  {
   "cell_type": "code",
   "execution_count": 5,
   "metadata": {},
   "outputs": [],
   "source": [
    "valid_country_code = ('GB', 'DE', 'US')\n",
    "df['country'] = df['country'].astype('category')\n",
    "df['country_code'] = df['country_code'].astype('category')\n",
    "df['country_code'] = df['country_code'].replace('GGB', 'GB')\n",
    "incorrect_codes = df[~df['country_code'].isin(valid_country_code)]\n"
   ]
  },
  {
   "cell_type": "code",
   "execution_count": 6,
   "metadata": {},
   "outputs": [],
   "source": [
    "df = df.drop(incorrect_codes.index)"
   ]
  },
  {
   "cell_type": "markdown",
   "metadata": {},
   "source": [
    "Locate the incorrect date formats that would not be converted with pd.to_datetime"
   ]
  },
  {
   "cell_type": "code",
   "execution_count": 7,
   "metadata": {},
   "outputs": [],
   "source": [
    "date_columns = ['date_of_birth', 'join_date']\n",
    "for col in date_columns:\n",
    "    df[col] = pd.to_datetime(df[col], format='%Y-%m-%d', errors='ignore')\n",
    "    df[col] = pd.to_datetime(df[col], format='%Y %B %d', errors='ignore')\n",
    "    df[col] = pd.to_datetime(df[col], format='%B %Y %d', errors='ignore')\n",
    "    df[col] = pd.to_datetime(df[col], errors='coerce')"
   ]
  },
  {
   "cell_type": "code",
   "execution_count": 8,
   "metadata": {},
   "outputs": [
    {
     "name": "stdout",
     "output_type": "stream",
     "text": [
      "<class 'pandas.core.frame.DataFrame'>\n",
      "Index: 14874 entries, 0 to 1249\n",
      "Data columns (total 11 columns):\n",
      " #   Column         Non-Null Count  Dtype         \n",
      "---  ------         --------------  -----         \n",
      " 0   first_name     14874 non-null  string        \n",
      " 1   last_name      14874 non-null  string        \n",
      " 2   date_of_birth  14848 non-null  datetime64[ns]\n",
      " 3   company        14874 non-null  string        \n",
      " 4   email_address  14874 non-null  string        \n",
      " 5   address        14874 non-null  string        \n",
      " 6   country        14874 non-null  category      \n",
      " 7   country_code   14874 non-null  category      \n",
      " 8   phone_number   14874 non-null  string        \n",
      " 9   join_date      14852 non-null  datetime64[ns]\n",
      " 10  user_uuid      14874 non-null  string        \n",
      "dtypes: category(2), datetime64[ns](2), string(7)\n",
      "memory usage: 1.2 MB\n"
     ]
    }
   ],
   "source": [
    "column_data_types = {\n",
    "    'first_name': 'string',\n",
    "    'last_name': 'string',\n",
    "    'company': 'string',\n",
    "    'email_address': 'string',\n",
    "    'address': 'string',\n",
    "    'phone_number': 'string',\n",
    "    'user_uuid': 'string'\n",
    "    }\n",
    "for col, data_type in column_data_types.items():\n",
    "    if col in df.columns:\n",
    "        try:\n",
    "            df[col] = df[col].astype(data_type)\n",
    "        except ValueError as e:\n",
    "            print(f\"Error converting '{col}' to '{data_type}': {e}\")\n",
    "    else:\n",
    "        print(f\"Column '{col}' not found in the DataFrame.\")\n",
    "df.info()\n"
   ]
  },
  {
   "cell_type": "code",
   "execution_count": null,
   "metadata": {},
   "outputs": [],
   "source": [
    "display(df['phone_number'])"
   ]
  },
  {
   "cell_type": "markdown",
   "metadata": {},
   "source": [
    "Locate the incorrectly formatted email addresses"
   ]
  },
  {
   "cell_type": "code",
   "execution_count": null,
   "metadata": {},
   "outputs": [],
   "source": [
    "df['phone_number'] = df['phone_number'].str.replace('[^a-zA-Z0-9+]', '', regex=True)"
   ]
  },
  {
   "cell_type": "code",
   "execution_count": null,
   "metadata": {},
   "outputs": [],
   "source": [
    "try:\n",
    "    df[['phone_number', 'phone_ext']] = df['phone_number'].str.split('x', expand=True)\n",
    "except ValueError as e:\n",
    "    print(f\"No extensions found\")\n",
    "df['phone_number'] = df['phone_number'].str.replace('(0)', '')\n",
    "df['phone_number'] = df['phone_number'].str.replace('[^a-zA-Z0-9+]', '', regex=True)"
   ]
  },
  {
   "cell_type": "code",
   "execution_count": null,
   "metadata": {},
   "outputs": [],
   "source": [
    "df['phone_number'].str.replace('[^a-zA-Z0-9+]', '', regex=True)"
   ]
  },
  {
   "cell_type": "code",
   "execution_count": null,
   "metadata": {},
   "outputs": [],
   "source": [
    "df['phone_number'].str.replace('(0)', '').head(20)"
   ]
  },
  {
   "cell_type": "code",
   "execution_count": null,
   "metadata": {},
   "outputs": [],
   "source": [
    "email_pattern = r'^[\\w\\.-]+@[\\w\\.-]+\\.\\w+'\n",
    "invalid_email_df = df[~df['email_address'].str.contains(email_pattern, na=False)]\n",
    "invalid_email_df"
   ]
  },
  {
   "cell_type": "markdown",
   "metadata": {},
   "source": [
    "Correct input errors"
   ]
  },
  {
   "cell_type": "code",
   "execution_count": null,
   "metadata": {},
   "outputs": [],
   "source": [
    "# Replace @@ with @ in the \"email\" column\n",
    "df['email_address'] = df['email_address'].str.replace('@@', '@')"
   ]
  },
  {
   "cell_type": "markdown",
   "metadata": {},
   "source": [
    "Clean phone number data"
   ]
  },
  {
   "cell_type": "code",
   "execution_count": null,
   "metadata": {},
   "outputs": [],
   "source": [
    "def format_gb_to_e164(phone_number):\n",
    "    # Remove non-digit characters\n",
    "    phone_number = ''.join(filter(str.isdigit, phone_number))\n",
    "    \n",
    "    # Check if the first two digits are \"44\"\n",
    "    if phone_number[:3] == \"440\":\n",
    "        # Phone number has an unecessary 0 at index 2\n",
    "        return \"+\" + phone_number[0:2] + phone_number[3:]\n",
    "    elif phone_number[:3] == \"441\":\n",
    "        # Phone number is already in E.164 format\n",
    "        return \"+\" + phone_number\n",
    "    elif phone_number.startswith(\"0\"):\n",
    "        # Remove the leading \"0\" and add \"44\" in front\n",
    "        return \"+44\" + phone_number[1:]\n",
    "    else:\n",
    "        # Phone number does not start with \"44\" or \"0\"\n",
    "        return None  # Invalid format, you can handle it accordingly\n",
    "    \n",
    "def format_de_to_e164(phone_number):\n",
    "    # Remove non-digit characters\n",
    "    phone_number = ''.join(filter(str.isdigit, phone_number))\n",
    "    \n",
    "    # Check if the first two digits are \"49\"\n",
    "    if phone_number[:3] == \"490\":\n",
    "        # Phone number has an unecessary 0 at index 2\n",
    "        return \"+\" + phone_number[0:2] + phone_number[3:]\n",
    "    elif phone_number[:3] == \"491\":\n",
    "        # Phone number is already in E.164 format\n",
    "        return \"+\" + phone_number\n",
    "    elif phone_number.startswith(\"0\"):\n",
    "        # Remove the leading \"0\" and add \"49\" in front\n",
    "        return \"+49\" + phone_number[1:]\n",
    "    else:\n",
    "        # Phone number does not start with \"49\" or \"0\"\n",
    "        return None  # Invalid format, you can handle it accordingly    \n",
    "    \n"
   ]
  },
  {
   "cell_type": "code",
   "execution_count": null,
   "metadata": {},
   "outputs": [],
   "source": [
    "df.loc[df['country_code']=='GB', 'phone_number'] = df.loc[df['country_code']=='GB']['phone_number'].apply(format_gb_to_e164)"
   ]
  },
  {
   "cell_type": "markdown",
   "metadata": {},
   "source": []
  },
  {
   "cell_type": "code",
   "execution_count": null,
   "metadata": {},
   "outputs": [],
   "source": [
    "# Convert to string\n",
    "df['phone_number'] = df['phone_number'].apply(lambda x: str(x))"
   ]
  },
  {
   "cell_type": "code",
   "execution_count": null,
   "metadata": {},
   "outputs": [],
   "source": [
    "df.loc[df['country_code'] == 'GB', 'phone_number'] = df.loc[df['country_code']=='GB']['phone_number'].apply(lambda x: x[0:3] + ' ' + x[3:])\n",
    "df.loc[df['country_code'] == 'GB', 'phone_number'] = df.loc[df['country_code']=='GB']['phone_number'].apply(lambda x: x[:-6] + ' ' + x[-6:])"
   ]
  },
  {
   "cell_type": "code",
   "execution_count": null,
   "metadata": {},
   "outputs": [],
   "source": [
    "df.loc[df['country_code'] == 'GB', 'phone_number'] = df.loc[df['country_code']=='GB']['phone_number'].apply(lambda x: x[:-4] + ' ' + x[-4:])\n",
    "df.loc[df['country_code'] == 'GB', 'phone_number'] = df.loc[df['country_code']=='GB']['phone_number'].apply(lambda x: x[:-8] + ' ' + x[-8:])"
   ]
  },
  {
   "cell_type": "code",
   "execution_count": null,
   "metadata": {},
   "outputs": [],
   "source": [
    "df.loc[df['country_code'] == 'GB', 'phone_number']"
   ]
  },
  {
   "cell_type": "code",
   "execution_count": null,
   "metadata": {},
   "outputs": [],
   "source": [
    "df.loc[df['country_code'] == 'DE', 'phone_number'] = df.loc[df['country_code'] == 'DE']['phone_number'].apply(format_de_to_e164) "
   ]
  },
  {
   "cell_type": "code",
   "execution_count": null,
   "metadata": {},
   "outputs": [],
   "source": [
    "df.loc[df['country_code'] == 'DE', 'phone_number']"
   ]
  },
  {
   "cell_type": "code",
   "execution_count": null,
   "metadata": {},
   "outputs": [],
   "source": [
    "df.loc[df['country_code'] == 'US', 'phone_number'].tail(20)"
   ]
  },
  {
   "cell_type": "code",
   "execution_count": null,
   "metadata": {},
   "outputs": [],
   "source": []
  },
  {
   "cell_type": "code",
   "execution_count": null,
   "metadata": {},
   "outputs": [],
   "source": [
    "df['address'] = df['address'].str.replace(\"\\n\", ' ')\n",
    "df['address'] = df['address'].str.title()\n",
    "df['address'] = df['address'].str.split().apply(lambda x: ' '.join(x[:-2] + [word.upper() for word in x[-2:]]))\n"
   ]
  },
  {
   "cell_type": "code",
   "execution_count": null,
   "metadata": {},
   "outputs": [],
   "source": [
    "# Define a custom function to uppercase the last two words\n",
    "def uppercase_last_two_words(text):\n",
    "    words = text.split()\n",
    "    return ' '.join(words[:-2] + [word.upper() for word in words[-2:]])\n",
    "\n",
    "# Apply the custom function to the 'address' column based on the 'country_code' condition\n",
    "df.loc[df['country_code'] == 'GB', 'address'] = df.loc[df['country_code'] == 'GB']['address'].apply(uppercase_last_two_words)\n",
    "\n"
   ]
  },
  {
   "cell_type": "code",
   "execution_count": null,
   "metadata": {},
   "outputs": [],
   "source": [
    "df.loc[df['country_code'] == 'DE', 'address']"
   ]
  },
  {
   "cell_type": "code",
   "execution_count": null,
   "metadata": {},
   "outputs": [],
   "source": [
    "df.head(20)"
   ]
  }
 ],
 "metadata": {
  "kernelspec": {
   "display_name": "Python 3",
   "language": "python",
   "name": "python3"
  },
  "language_info": {
   "codemirror_mode": {
    "name": "ipython",
    "version": 3
   },
   "file_extension": ".py",
   "mimetype": "text/x-python",
   "name": "python",
   "nbconvert_exporter": "python",
   "pygments_lexer": "ipython3",
   "version": "3.10.12"
  },
  "orig_nbformat": 4
 },
 "nbformat": 4,
 "nbformat_minor": 2
}
